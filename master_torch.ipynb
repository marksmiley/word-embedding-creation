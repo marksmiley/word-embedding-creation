{
 "cells": [
  {
   "cell_type": "code",
   "execution_count": 16,
   "metadata": {},
   "outputs": [],
   "source": [
    "import pandas as pd\n",
    "import numpy as np\n",
    "import re\n",
    "import os\n",
    "from tqdm import tqdm\n",
    "from scipy import sparse\n",
    "\n",
    "import torch\n",
    "from torch import nn\n",
    "\n",
    "import matplotlib.pyplot as plt\n",
    "\n",
    "from utility import text_preprocessing, create_unique_word_dict"
   ]
  },
  {
   "cell_type": "code",
   "execution_count": 12,
   "metadata": {},
   "outputs": [],
   "source": [
    "texts = pd.read_csv('input/sample.csv')\n",
    "texts = [x for x in texts['text']]\n",
    "\n",
    "word_list = []\n",
    "all_text = []\n",
    "\n",
    "window = 2\n",
    "\n",
    "for text in texts:\n",
    "    text = text_preprocessing(text)\n",
    "    all_text += text\n",
    "\n",
    "    for i, word in enumerate(text):\n",
    "        for w in range(window):\n",
    "            if i+1+w < len(text):\n",
    "                word_list.append([word]+[text[(i+1+w)]])\n",
    "            if i-1-w >= 0:\n",
    "                word_list.append([word]+[text[(i-1-w)]])\n"
   ]
  },
  {
   "cell_type": "code",
   "execution_count": 13,
   "metadata": {},
   "outputs": [],
   "source": [
    "unique_word_dict = create_unique_word_dict(all_text)\n",
    "\n",
    "n_words = len(unique_word_dict)\n",
    "\n",
    "words = list(unique_word_dict.keys())"
   ]
  },
  {
   "cell_type": "code",
   "execution_count": 14,
   "metadata": {},
   "outputs": [
    {
     "name": "stderr",
     "output_type": "stream",
     "text": [
      "84it [00:00, 253833.96it/s]\n"
     ]
    }
   ],
   "source": [
    "x = []\n",
    "y = []\n",
    "\n",
    "for i, word_list in tqdm(enumerate(word_list)):\n",
    "    main_word_index = unique_word_dict[word_list[0]]\n",
    "    context_word_index = unique_word_dict[word_list[1]]\n",
    "\n",
    "    x_row = np.zeros(n_words)  \n",
    "    y_row = np.zeros(n_words)\n",
    "\n",
    "    x_row[main_word_index] = 1\n",
    "    y_row[context_word_index] = 1\n",
    "\n",
    "    x.append(x_row)\n",
    "    y.append(y_row)\n",
    "x = sparse.csr_matrix(x)\n",
    "y = sparse.csr_matrix(y)"
   ]
  },
  {
   "cell_type": "code",
   "execution_count": 17,
   "metadata": {},
   "outputs": [],
   "source": [
    "class LinearModel(nn.Module):\n",
    "    def __init__(self, input_size, output_size):\n",
    "        super(LinearModel,self).__init__()\n",
    "\n",
    "        self.layer1 = nn.Linear(input_size, 20)\n",
    "        self.layer2 = nn.Linear(20, output_size)\n",
    "        self.relu = nn.ReLU()\n",
    "\n",
    "    def forward(self, x):\n",
    "        x_1 = self.layer1(x)\n",
    "        relu_1 = self.relu(x_1)\n",
    "        x_2 = self.layer2(relu_1)\n",
    "        \n",
    "        return self.relu(x_2)"
   ]
  },
  {
   "cell_type": "code",
   "execution_count": 15,
   "metadata": {},
   "outputs": [
    {
     "data": {
      "text/plain": [
       "<84x21 sparse matrix of type '<class 'numpy.float64'>'\n",
       "\twith 84 stored elements in Compressed Sparse Row format>"
      ]
     },
     "execution_count": 15,
     "metadata": {},
     "output_type": "execute_result"
    }
   ],
   "source": [
    "# Gotta learn how to do this with pytorch instead of keras\n",
    "\n",
    "# Defining the neural network\n",
    "inp = Input(shape=(X.shape[1],))\n",
    "x = Dense(units=embed_size, activation='linear')(inp)\n",
    "x = Dense(units=Y.shape[1], activation='softmax')(x)\n",
    "model = Model(inputs=inp, outputs=x)\n",
    "model.compile(loss = 'categorical_crossentropy', optimizer = 'adam')\n",
    "\n",
    "# Optimizing the network weights\n",
    "model.fit(\n",
    "    x=X, \n",
    "    y=Y, \n",
    "    batch_size=256,\n",
    "    epochs=1000\n",
    "    )\n"
   ]
  },
  {
   "cell_type": "code",
   "execution_count": 18,
   "metadata": {},
   "outputs": [],
   "source": [
    "embed = nn.Embedding(n_words, 2)\n",
    "input_ids = torch.tensor([unique_word_dict[word] for word in words], dtype=torch.long)\n",
    "embeddings = embed(input_ids)"
   ]
  },
  {
   "cell_type": "code",
   "execution_count": 19,
   "metadata": {},
   "outputs": [
    {
     "data": {
      "text/plain": [
       "tensor([[ 1.1728, -1.0738],\n",
       "        [ 0.7599,  0.0199],\n",
       "        [ 0.5748,  0.5437],\n",
       "        [ 0.4089, -1.0236],\n",
       "        [-0.1826, -0.4938],\n",
       "        [ 0.4778,  0.1547],\n",
       "        [-0.8029,  1.2071],\n",
       "        [-0.8076,  0.0727],\n",
       "        [ 0.6547,  0.9977],\n",
       "        [ 0.9841, -0.1567],\n",
       "        [ 0.9159,  0.1858],\n",
       "        [-0.5184, -0.5245],\n",
       "        [ 0.6277,  0.5263],\n",
       "        [-0.6534,  0.8297],\n",
       "        [ 0.9245, -3.6275],\n",
       "        [-0.2095,  0.4310],\n",
       "        [-0.1361,  0.4316],\n",
       "        [-1.0683, -0.0280],\n",
       "        [ 1.4454, -0.6012],\n",
       "        [ 0.6876,  0.4750],\n",
       "        [-2.3553, -0.0243]], grad_fn=<EmbeddingBackward0>)"
      ]
     },
     "execution_count": 19,
     "metadata": {},
     "output_type": "execute_result"
    }
   ],
   "source": [
    "embeddings"
   ]
  },
  {
   "cell_type": "code",
   "execution_count": null,
   "metadata": {},
   "outputs": [],
   "source": []
  }
 ],
 "metadata": {
  "kernelspec": {
   "display_name": "base",
   "language": "python",
   "name": "python3"
  },
  "language_info": {
   "codemirror_mode": {
    "name": "ipython",
    "version": 3
   },
   "file_extension": ".py",
   "mimetype": "text/x-python",
   "name": "python",
   "nbconvert_exporter": "python",
   "pygments_lexer": "ipython3",
   "version": "3.9.13"
  }
 },
 "nbformat": 4,
 "nbformat_minor": 2
}
